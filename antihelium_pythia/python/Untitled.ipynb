{
 "cells": [
  {
   "cell_type": "code",
   "execution_count": 2,
   "metadata": {
    "collapsed": false
   },
   "outputs": [],
   "source": [
    "import numpy as np"
   ]
  },
  {
   "cell_type": "markdown",
   "metadata": {},
   "source": [
    "### Parameters"
   ]
  },
  {
   "cell_type": "code",
   "execution_count": null,
   "metadata": {
    "collapsed": true
   },
   "outputs": [],
   "source": [
    "phiF = 0.5 # GV. Fisk potential"
   ]
  },
  {
   "cell_type": "code",
   "execution_count": null,
   "metadata": {
    "collapsed": false
   },
   "outputs": [],
   "source": [
    "def solarMod(phiIS, TTOA, A, Z):\n",
    "    \"\"\"\n",
    "    Computes flux at top of atmosphere as function of kinetic energy per\n",
    "    nucleon at the top of the atmosphere given an interstellar flux for \n",
    "    a nucleus species.\n",
    "    \n",
    "    Arguments\n",
    "    -phiIS: float -> float\n",
    "        Flux of nuclei at boundary of solar system as a function of kinetic\n",
    "        energy per nucleon at boundary of solar system\n",
    "    -TTOA: kinetic energy per nucleon at top of atmosphere (GeV)\n",
    "    -A, Z, m: mass number, atomic/proton number of nucleus\n",
    "    \"\"\"\n",
    "    m = A * mP\n",
    "    # Force field approximation. Factor of e converts phiF to be in MeV\n",
    "    TIS = TTOA + phiF * np.abs(Z) / A\n",
    "    \n",
    "    return (2*m*A*TTOA+A**2*TTOA**2)/(2*m*A*TIS+A**2*TIS**2)*phiIS(TIS)"
   ]
  },
  {
   "cell_type": "code",
   "execution_count": null,
   "metadata": {
    "collapsed": true
   },
   "outputs": [],
   "source": []
  }
 ],
 "metadata": {
  "kernelspec": {
   "display_name": "Python 2",
   "language": "python",
   "name": "python2"
  },
  "language_info": {
   "codemirror_mode": {
    "name": "ipython",
    "version": 2
   },
   "file_extension": ".py",
   "mimetype": "text/x-python",
   "name": "python",
   "nbconvert_exporter": "python",
   "pygments_lexer": "ipython2",
   "version": "2.7.9"
  }
 },
 "nbformat": 4,
 "nbformat_minor": 1
}
